{
 "cells": [
  {
   "cell_type": "code",
   "execution_count": 4,
   "id": "initial_id",
   "metadata": {
    "collapsed": true,
    "ExecuteTime": {
     "end_time": "2024-01-13T18:34:31.369263Z",
     "start_time": "2024-01-13T18:34:31.345200Z"
    }
   },
   "outputs": [
    {
     "name": "stdout",
     "output_type": "stream",
     "text": [
      "The sample with maximum occurrence is: [('i', 4)]\n"
     ]
    }
   ],
   "source": [
    "from collections import defaultdict\n",
    "import random\n",
    "\n",
    "\n",
    "def reservoir_sampling_with_max_occurrence(stream, k):\n",
    "    \"\"\"\n",
    "    Perform reservoir sampling on a stream of (item, occurrence) pairs,\n",
    "    keeping only the items with the maximum occurrence.\n",
    "    \n",
    "    :param stream: An iterator of (item, occurrence) pairs\n",
    "    :param k: The maximum number of items to sample\n",
    "    :return: A sample containing items with the maximum occurrence\n",
    "    \"\"\"\n",
    "    if k <= 0:\n",
    "        return []\n",
    "\n",
    "    # Initialize the reservoir and the maximum occurrence seen so far\n",
    "    reservoir = []\n",
    "    max_occurrence = 0\n",
    "    occurrence_dict = defaultdict(int)\n",
    "    \n",
    "    for i, (item, occurrence) in enumerate(stream):\n",
    "        occurrence_dict[item] += occurrence\n",
    "        current_occurrence = occurrence_dict[item]\n",
    "        \n",
    "        # If the current item's occurrence is greater than the max observed,\n",
    "        # clear the reservoir and start a new one\n",
    "        if current_occurrence > max_occurrence:\n",
    "            max_occurrence = current_occurrence\n",
    "            reservoir = [(item, current_occurrence)]\n",
    "        \n",
    "        # If the current item's occurrence is equal to the max, add it to the reservoir\n",
    "        elif current_occurrence == max_occurrence:\n",
    "            reservoir.append((item, current_occurrence))\n",
    "        \n",
    "        # Ensure the reservoir size is not exceeded\n",
    "        while len(reservoir) > k:\n",
    "            # Random eviction from the reservoir\n",
    "            eviction_index = random.randrange(len(reservoir))\n",
    "            evicted_item, _ = reservoir.pop(eviction_index)\n",
    "            # Ensure that if we popped the last occurrence of an item, we reduce the max_occurrence value\n",
    "            if all(item != evicted_item for item, _ in reservoir):\n",
    "                max_occurrence = max(occurrence for _, occurrence in reservoir) if reservoir else 0\n",
    "\n",
    "    return reservoir\n",
    "\n",
    "# Example usage:\n",
    "stream_data = [('a', 1), ('b', 1), ('d', 1), ('e', 1), ('f', 1), ('g', 1), ('h', 1), ('i', 4), ('j', 3)]\n",
    "sample_size = 3\n",
    "sample = reservoir_sampling_with_max_occurrence(stream_data, sample_size)\n",
    "print(\"The sample with maximum occurrence is:\", sample)\n"
   ]
  },
  {
   "cell_type": "code",
   "outputs": [
    {
     "name": "stdout",
     "output_type": "stream",
     "text": [
      "['item2', 'item3']\n"
     ]
    }
   ],
   "source": [
    "import random\n",
    "import math\n",
    "\n",
    "def weighted_reservoir_sampling(stream, k):\n",
    "    \"\"\"Select k items from a weighted stream where stream is a sequence of (item, occurrence) pairs.\"\"\"\n",
    "    reservoir = []\n",
    "    \n",
    "    for item, occurrence in stream:\n",
    "        if occurrence <= 0:\n",
    "            continue  # Skip items with non-positive weight\n",
    "        \n",
    "        if len(reservoir) < k:\n",
    "            # The reservoir is not yet full, add the item directly\n",
    "            reservoir.append((item, occurrence))\n",
    "        else:\n",
    "            # Calculate the key for the current item\n",
    "            key = random.random() ** (1 / occurrence)\n",
    "            \n",
    "            # Find the smallest key in the reservoir\n",
    "            min_key_idx = min(range(k), key=lambda i: reservoir[i][1])\n",
    "            min_key = reservoir[min_key_idx][1]\n",
    "            \n",
    "            # Replace the item with the smallest key if its key is smaller than the current item's key\n",
    "            if min_key < key:\n",
    "                reservoir[min_key_idx] = (item, occurrence)\n",
    "    \n",
    "    # Return just the items, not their occurrences\n",
    "    return [item for item, occurrence in reservoir]\n",
    "\n",
    "# Example usage:\n",
    "stream_data = [ ('item2', 50), ('item3', 20), ('item4', 40),('item1', 10)]\n",
    "selected_items = weighted_reservoir_sampling(stream_data, 2)\n",
    "print(selected_items)"
   ],
   "metadata": {
    "collapsed": false,
    "ExecuteTime": {
     "end_time": "2024-01-13T18:41:43.333098Z",
     "start_time": "2024-01-13T18:41:43.326154Z"
    }
   },
   "id": "e58d382e720b2ec",
   "execution_count": 11
  },
  {
   "cell_type": "code",
   "outputs": [],
   "source": [
    "def reservoir_sampling_max(stream_items, k):\n",
    "    \"\"\"\n",
    "    Reservoir sampling function to select items with maximum occurrence in a stream.\n",
    "\n",
    "    :param stream_items: A list of tuples, where each tuple consists of an item and its occurrence.\n",
    "    :param k: The number of items to sample.\n",
    "    :return: A list containing the most frequently occurring items.\n",
    "    \"\"\"\n",
    "    if k <= 0:\n",
    "        return []\n",
    "\n",
    "    # Initialize reservoir and occurrence count\n",
    "    reservoir = []\n",
    "    occurrences = defaultdict(int)\n",
    "\n",
    "    # Process stream items\n",
    "    for index, (item, count) in enumerate(stream_items):\n",
    "        if len(reservoir) < k:\n",
    "            # Fill the reservoir with initial items\n",
    "            occurrences[item] += count\n",
    "            reservoir.append((item, occurrences[item]))\n",
    "        else:\n",
    "            occurrences[item] += count\n",
    "            # Check if the current item has more occurrences than the least in the reservoir\n",
    "            current_min = min(reservoir, key=lambda x: x[1])\n",
    "            if occurrences[item] > current_min[1]:\n",
    "                # Replace the least frequent item in reservoir with the current item\n",
    "                reservoir.remove(current_min)\n",
    "                reservoir.append((item, occurrences[item]))\n",
    "\n",
    "    # Sort the reservoir based on occurrence to return the most frequent items\n",
    "    reservoir.sort(key=lambda x: x[1], reverse=True)\n",
    "    return reservoir\n",
    "    # Just return the items without their occurrence count\n",
    "    return [item for item, _ in reservoir]\n"
   ],
   "metadata": {
    "collapsed": false,
    "ExecuteTime": {
     "end_time": "2024-01-13T18:45:31.110744Z",
     "start_time": "2024-01-13T18:45:31.101474Z"
    }
   },
   "id": "b06e7704a8dc3baf",
   "execution_count": 14
  },
  {
   "cell_type": "code",
   "outputs": [
    {
     "name": "stdout",
     "output_type": "stream",
     "text": [
      "[('apple', 5), ('banana', 5)]\n"
     ]
    }
   ],
   "source": [
    "    stream = [('apple', 5), ('banana', 5), ('orange', 5), ('grape', 5), ('peach', 4),('mango', 5)]\n",
    "    k =2\n",
    "    print(reservoir_sampling_max(stream, k))"
   ],
   "metadata": {
    "collapsed": false,
    "ExecuteTime": {
     "end_time": "2024-01-13T23:19:08.456460Z",
     "start_time": "2024-01-13T23:19:08.440368Z"
    }
   },
   "id": "b1e24b951d8fc544",
   "execution_count": 118
  },
  {
   "cell_type": "code",
   "outputs": [
    {
     "name": "stdout",
     "output_type": "stream",
     "text": [
      "Selected items: ['cherry', 'cherry', 'cherry']\n"
     ]
    }
   ],
   "source": [
    "def weighted_reservoir_sampling(stream, k):\n",
    "    # Initialize an empty reservoir with k slots\n",
    "    reservoir = []\n",
    "    total_occurrences = 0\n",
    "    \n",
    "    for item, occurrence in stream:\n",
    "        total_occurrences += occurrence\n",
    "        \n",
    "        for _ in range(occurrence):\n",
    "            if len(reservoir) < k:\n",
    "                # Fill the reservoir with the first k items\n",
    "                reservoir.append(item)\n",
    "            else:\n",
    "                # Randomly replace items in the reservoir with a new item\n",
    "                # Probability is weighted based on occurrence of new items\n",
    "                r = random.randint(1, total_occurrences)\n",
    "                if r <= occurrence:\n",
    "                    replace_index = random.randrange(k)\n",
    "                    reservoir[replace_index] = item\n",
    "    \n",
    "    return reservoir\n",
    "# Example usage:\n",
    "# Create a list of (item, occurrence) pairs\n",
    "item_stream = [('apple', 10), ('banana', 5), ('cherry', 20), ('date', 1), ('elderberry', 2)]\n",
    "# Define the number of items to select\n",
    "k_items = 3\n",
    "# Execute the weighted reservoir sampling algorithm\n",
    "selected_items = weighted_reservoir_sampling(item_stream, k_items)\n",
    "# Show the results\n",
    "print(\"Selected items:\", selected_items)"
   ],
   "metadata": {
    "collapsed": false,
    "ExecuteTime": {
     "end_time": "2024-01-13T18:51:03.288306Z",
     "start_time": "2024-01-13T18:51:03.277441Z"
    }
   },
   "id": "49d40d7c6cd4cbda",
   "execution_count": 19
  },
  {
   "cell_type": "code",
   "outputs": [
    {
     "name": "stdout",
     "output_type": "stream",
     "text": [
      "['elderberry', 'cherry', 'apple']\n"
     ]
    }
   ],
   "source": [
    "import random\n",
    "from typing import List, Tuple\n",
    "def weighted_random_sample(stream: List[Tuple[int, int]], k: int) -> List[int]:\n",
    "    \"\"\"\n",
    "    Selects k random items from a stream, weighted towards maximum occurrences.\n",
    "    \n",
    "    :param stream: A list of (item, occurrence) tuples.\n",
    "    :param k: The number of items to select.\n",
    "    :return: A list of selected items.\n",
    "    \"\"\"\n",
    "    # Initialize the reservoir with the first k items from the stream\n",
    "    reservoir = []\n",
    "    total_weight = 0\n",
    "    for item, weight in stream:\n",
    "        total_weight += weight\n",
    "        # If the reservoir isn't full, add the item directly\n",
    "        if len(reservoir) < k:\n",
    "            reservoir.append((item, weight))\n",
    "        else:\n",
    "            # Replace elements in the reservoir with a probability\n",
    "            # proportional to the weight of the new item\n",
    "            prob = weight / total_weight\n",
    "            if random.random() < prob:\n",
    "                # Choose an index proportional to weights for replacement\n",
    "                weights = [w for _, w in reservoir]\n",
    "                index_to_replace = weighted_choice(weights)\n",
    "                reservoir[index_to_replace] = (item, weight)\n",
    "    # Extract final items from the reservoir, disregarding weights at this point\n",
    "    return [item for item, _ in reservoir]\n",
    "def weighted_choice(weights: List[int]) -> int:\n",
    "    \"\"\"\n",
    "    Make a weighted choice of an index.\n",
    "    \n",
    "    :param weights: A list of weights, one per item.\n",
    "    :return: The selected index.\n",
    "    \"\"\"\n",
    "    cumulative_weights = []\n",
    "    total_sum = 0\n",
    "    for w in weights:\n",
    "        total_sum += w\n",
    "        cumulative_weights.append(total_sum)\n",
    "    rnd = random.random() * total_sum\n",
    "    for i, total in enumerate(cumulative_weights):\n",
    "        if rnd < total:\n",
    "            return i\n",
    "    return len(weights) - 1\n",
    "# Example usage:\n",
    "stream_data = [ ('elderberry', 25),\n",
    "    ('cherry', 20),\n",
    "    ('date', 30) , ('fig', 1) , ('apple', 100), ('banana', 5), ('mane', 100),\n",
    "]\n",
    "k_items = 3\n",
    "print(weighted_random_sample(stream_data, k_items))"
   ],
   "metadata": {
    "collapsed": false,
    "ExecuteTime": {
     "end_time": "2024-01-13T19:12:01.908717Z",
     "start_time": "2024-01-13T19:12:01.902364Z"
    }
   },
   "id": "de9eda7540fab5",
   "execution_count": 68
  },
  {
   "cell_type": "code",
   "outputs": [],
   "source": [
    "import pandas as pd"
   ],
   "metadata": {
    "collapsed": false,
    "ExecuteTime": {
     "end_time": "2024-01-13T21:14:32.171454Z",
     "start_time": "2024-01-13T21:14:30.916734Z"
    }
   },
   "id": "906281c796b81f5",
   "execution_count": 70
  },
  {
   "cell_type": "code",
   "outputs": [
    {
     "data": {
      "text/plain": "                         desc_md5_cs  doc_occur_count\n35  3bf3f29e4ff2cb63259bc1b9708ac773                1\n27  b33beaf14e53fc3ee527b3d2b63ab58f                1\n67  6d4df03ed301f52ef2ecde0a79a3d614                5\n60  ecd6def544b034582e4ea559b592b7f5                1\n99  954e356135cbb03339c2d967af368f60                7\n..                               ...              ...\n26  5b9e26ac75709f669e7e4ca754882c17                2\n53  314c1e5831fffc11c2e3024b8fe67702                1\n3   27e42fdcb6ec8710cb0a6f9c1082629d                8\n23  113fcd810a0c540a105eea0adb153e47                1\n14  5130177e8483780f1e82d9ad80a55bb6                3\n\n[100 rows x 2 columns]",
      "text/html": "<div>\n<style scoped>\n    .dataframe tbody tr th:only-of-type {\n        vertical-align: middle;\n    }\n\n    .dataframe tbody tr th {\n        vertical-align: top;\n    }\n\n    .dataframe thead th {\n        text-align: right;\n    }\n</style>\n<table border=\"1\" class=\"dataframe\">\n  <thead>\n    <tr style=\"text-align: right;\">\n      <th></th>\n      <th>desc_md5_cs</th>\n      <th>doc_occur_count</th>\n    </tr>\n  </thead>\n  <tbody>\n    <tr>\n      <th>35</th>\n      <td>3bf3f29e4ff2cb63259bc1b9708ac773</td>\n      <td>1</td>\n    </tr>\n    <tr>\n      <th>27</th>\n      <td>b33beaf14e53fc3ee527b3d2b63ab58f</td>\n      <td>1</td>\n    </tr>\n    <tr>\n      <th>67</th>\n      <td>6d4df03ed301f52ef2ecde0a79a3d614</td>\n      <td>5</td>\n    </tr>\n    <tr>\n      <th>60</th>\n      <td>ecd6def544b034582e4ea559b592b7f5</td>\n      <td>1</td>\n    </tr>\n    <tr>\n      <th>99</th>\n      <td>954e356135cbb03339c2d967af368f60</td>\n      <td>7</td>\n    </tr>\n    <tr>\n      <th>...</th>\n      <td>...</td>\n      <td>...</td>\n    </tr>\n    <tr>\n      <th>26</th>\n      <td>5b9e26ac75709f669e7e4ca754882c17</td>\n      <td>2</td>\n    </tr>\n    <tr>\n      <th>53</th>\n      <td>314c1e5831fffc11c2e3024b8fe67702</td>\n      <td>1</td>\n    </tr>\n    <tr>\n      <th>3</th>\n      <td>27e42fdcb6ec8710cb0a6f9c1082629d</td>\n      <td>8</td>\n    </tr>\n    <tr>\n      <th>23</th>\n      <td>113fcd810a0c540a105eea0adb153e47</td>\n      <td>1</td>\n    </tr>\n    <tr>\n      <th>14</th>\n      <td>5130177e8483780f1e82d9ad80a55bb6</td>\n      <td>3</td>\n    </tr>\n  </tbody>\n</table>\n<p>100 rows × 2 columns</p>\n</div>"
     },
     "execution_count": 110,
     "metadata": {},
     "output_type": "execute_result"
    }
   ],
   "source": [
    "df = pd.read_csv('../data/sample.csv')\n",
    "df.sample(100)"
   ],
   "metadata": {
    "collapsed": false,
    "ExecuteTime": {
     "end_time": "2024-01-13T21:56:47.235266Z",
     "start_time": "2024-01-13T21:56:47.206870Z"
    }
   },
   "id": "7ccd4ec0a55ea390",
   "execution_count": 110
  },
  {
   "cell_type": "code",
   "outputs": [],
   "source": [
    "sample_list = []\n",
    "for idx , data in df.iterrows():\n",
    "    sample_list.append((data['desc_md5_cs'],data['doc_occur_count']))"
   ],
   "metadata": {
    "collapsed": false,
    "ExecuteTime": {
     "end_time": "2024-01-13T21:16:54.394112Z",
     "start_time": "2024-01-13T21:16:54.326483Z"
    }
   },
   "id": "90d948c4868871cd",
   "execution_count": 73
  },
  {
   "cell_type": "code",
   "outputs": [
    {
     "data": {
      "text/plain": "[('490382a5831a606f01e89bfe0d074d34', 1),\n ('dac826cb225e7b24fb7baf1c56e0f02e', 2),\n ('7da5fd42e13c18b74f1b5d4f4e894cc0', 4),\n ('27e42fdcb6ec8710cb0a6f9c1082629d', 8),\n ('660d2a4168c4ee2596339165cb5b4e87', 8),\n ('d41bcc2b6ddb3e5c0577ecf69de681b3', 14),\n ('f4090caf6e4ea3d69e561d7f1feecfb2', 1),\n ('b61c5f9b6cdd97d8a68e62d0e7e05652', 3),\n ('d18349304346479aeed8f7dc73857249', 3),\n ('da15cf8dbb32f8a1f8972580eca0c48a', 4)]"
     },
     "execution_count": 74,
     "metadata": {},
     "output_type": "execute_result"
    }
   ],
   "source": [
    "sample_list[:10]"
   ],
   "metadata": {
    "collapsed": false,
    "ExecuteTime": {
     "end_time": "2024-01-13T21:17:04.009195Z",
     "start_time": "2024-01-13T21:17:03.971608Z"
    }
   },
   "id": "72de6c4a818ac28f",
   "execution_count": 74
  },
  {
   "cell_type": "code",
   "outputs": [
    {
     "name": "stdout",
     "output_type": "stream",
     "text": [
      "Final selected sample list: [('4970805e81104b3a2ae01ebb35dc122b', 3), ('045e3113f113eac5b4b35395f177fee5', 1), ('d6abb492c25a8fce560a3f3cf6337ab5', 1), ('59d447e616d08bc50df2b0fc83e8ec03', 1), ('e813a019c13a1e3c0874ca6558cc160e', 8), ('da40d73d095ac29959f4f4e1ce78a98c', 8)]\n"
     ]
    }
   ],
   "source": [
    "import numpy as np\n",
    "from scipy import stats\n",
    "import random\n",
    "# Function to perform reservoir sampling\n",
    "def reservoir_sampling(stream, k):\n",
    "    reservoir = []\n",
    "    for i, item in enumerate(stream):\n",
    "        if i < k:\n",
    "            reservoir.append(item)\n",
    "        else:\n",
    "            j = random.randrange(i + 1)\n",
    "            if j < k:\n",
    "                reservoir[j] = item\n",
    "    return reservoir\n",
    "# Function to split K and perform sampling\n",
    "def split_and_sample(stream, k):\n",
    "    items = []\n",
    "    frequencies = []\n",
    "    \n",
    "    # Read the stream and collect items and frequencies\n",
    "    for item, frequency in stream:\n",
    "        items.append(item)\n",
    "        frequencies.append(frequency)\n",
    "    \n",
    "    # Calculate the median and MAD\n",
    "    median = np.median(frequencies)\n",
    "    mad = stats.median_abs_deviation(frequencies)\n",
    "    # mad = np.median(np.abs(frequencies - median))\n",
    "    \n",
    "    # Split items based on whether they are within the (median-MAD, median+MAD) range\n",
    "    in_range_items = [(item, freq) for item, freq in zip(items, frequencies) if median - mad <= freq <= median + mad]\n",
    "    out_range_items = [(item, freq) for item, freq in zip(items, frequencies) if freq < median - mad or freq > median + mad]\n",
    "    \n",
    "    # Split K into K1 and K2\n",
    "    total_items = len(items)\n",
    "    k1 = len(in_range_items) / total_items * k\n",
    "    k2 = k - k1\n",
    "    \n",
    "    # Round K1 and K2 since they need to be integers, this can slightly alter their sum\n",
    "    k1, k2 = round(k1), round(k2)\n",
    "    # Perform reservoir sampling for in-range and out-range item frequencies\n",
    "    l1 = reservoir_sampling(in_range_items, k1)\n",
    "    l2 = reservoir_sampling(out_range_items, k2)\n",
    "    # Merge samples from both ranges\n",
    "    final_sample = l1 + l2\n",
    "    \n",
    "    return final_sample\n",
    "# Example usage with a dummy stream and K value\n",
    "# Assuming stream is given in the format [(item1, freq1), (item2, freq2), ...]\n",
    "stream_data = [('apple', 10), ('banana', 20), ('cherry', 15), ('date', 25), ('elderberry', 30), ('fig', 40), ('grape', 5)]\n",
    "\n",
    "k_value = 5\n",
    "sample = split_and_sample(sample_list, k_value)\n",
    "print(\"Final selected sample list:\", sample)"
   ],
   "metadata": {
    "collapsed": false,
    "ExecuteTime": {
     "end_time": "2024-01-13T21:18:21.027048Z",
     "start_time": "2024-01-13T21:18:21.013017Z"
    }
   },
   "id": "849da6eeb2b780c6",
   "execution_count": 80
  },
  {
   "cell_type": "code",
   "outputs": [],
   "source": [
    "import numpy as np\n",
    "from scipy import stats\n",
    "import random\n",
    "\n",
    "class SamplingOnFrequency:\n",
    "\n",
    "    def __init__(self):\n",
    "        pass\n",
    "\n",
    "    def reservoir_sampling(self, stream, k):\n",
    "        reservoir = []\n",
    "        for i, item in enumerate(stream):\n",
    "            if i < k:\n",
    "                reservoir.append(item)\n",
    "            else:\n",
    "                j = random.randrange(i + 1)\n",
    "                if j < k:\n",
    "                    reservoir[j] = item\n",
    "        return reservoir\n",
    "\n",
    "    def split_and_sample(self, stream, k):\n",
    "        items = []\n",
    "        frequencies = []\n",
    "        \n",
    "        # Read the stream and collect items and frequencies\n",
    "        for item, frequency in stream:\n",
    "            items.append(item)\n",
    "            frequencies.append(frequency)\n",
    "        \n",
    "        # Calculate the median and MAD\n",
    "        median = np.median(frequencies)\n",
    "        mad = stats.median_abs_deviation(frequencies)\n",
    "        print(f' the median is : {median} \\n The median_abs_deviation  : {mad}\\n')\n",
    "        # mad = np.median(np.abs(frequencies - median))\n",
    "        \n",
    "        # Split items based on whether they are within the (median-MAD, median+MAD) range\n",
    "        in_range_items = [(item, freq) for item, freq in zip(items, frequencies) if median - mad <= freq <= median + mad]\n",
    "        out_range_items = [(item, freq) for item, freq in zip(items, frequencies) if freq < median - mad or freq > median + mad]\n",
    "        print(f' total in range of mad : {len(in_range_items)} \\n total out rang of mad  : {len(out_range_items)}\\n')\n",
    "        \n",
    "        # Split K into K1 and K2\n",
    "        total_items = len(items)\n",
    "        k1 = len(in_range_items) / total_items * k\n",
    "        k2 = k - k1\n",
    "        \n",
    "        # Round K1 and K2 since they need to be integers, this can slightly alter their sum\n",
    "        k1, k2 = round(k1), round(k2)\n",
    "        \n",
    "        if k1+k2 > k:\n",
    "            if k1>k2:\n",
    "                k1 = k1 - ((k1+k2)-k)\n",
    "            else:\n",
    "                k2 = k2 - ((k1+k2)-k)\n",
    "        if k1 +k2 < k:\n",
    "            \n",
    "            if k1<k2:\n",
    "                k1 = k1 + (k-(k1+k2))\n",
    "            else:\n",
    "                k2 = k2 + (k-(k1+k2))\n",
    "            \n",
    "        print(f' value of k1 : {k1} \\n value of k2 : {k2}\\n')\n",
    "        # Perform reservoir sampling for in-range and out-range item frequencies\n",
    "        if len(in_range_items) >= len(out_range_items):\n",
    "            k_in_range = min(k1,k2)\n",
    "            k_out_range = max(k1,k2)\n",
    "        else:\n",
    "            k_in_range = max(k1,k2)\n",
    "            k_out_range = min(k1,k2)\n",
    "        print(f' value of k_in_range : {k_in_range} \\n value of k_out_range : {k_out_range}\\n')\n",
    "        l1 = self.reservoir_sampling(in_range_items, k_in_range)\n",
    "        l2 = self.reservoir_sampling(out_range_items, k_out_range)\n",
    "        # Merge samples from both ranges\n",
    "        final_sample = l1 + l2\n",
    "        \n",
    "        return final_sample\n"
   ],
   "metadata": {
    "collapsed": false,
    "ExecuteTime": {
     "end_time": "2024-01-13T21:55:08.398228Z",
     "start_time": "2024-01-13T21:55:08.380062Z"
    }
   },
   "id": "313b50a6ee223e12",
   "execution_count": 105
  },
  {
   "cell_type": "code",
   "outputs": [
    {
     "name": "stdout",
     "output_type": "stream",
     "text": [
      " the median is : 3.0 \n",
      " The median_abs_deviation  : 2.0\n",
      "\n",
      " total in range of mad : 70 \n",
      " total out rang of mad  : 30\n",
      "\n",
      " value of k1 : 14 \n",
      " value of k2 : 6\n",
      "\n",
      " value of k_in_range : 6 \n",
      " value of k_out_range : 14\n",
      "\n",
      "Final selected sample list: [('5b9e26ac75709f669e7e4ca754882c17', 2), ('ca06cdc7fa9f7cfe166f5e0503a12fa1', 1), ('3c4543b5ba3bd204ba2e358e46f247e8', 4), ('4ece7e3dc26049f61f2bf76ddbe7c02c', 1), ('13905e07ce1aa2b16e7195cfec044466', 1), ('f88f9b5c39e1978976da2679586cc6dd', 2), ('27e42fdcb6ec8710cb0a6f9c1082629d', 8), ('599436458fdd30cb2c37557f155ee351', 40), ('ecdb1afc9093011c754ff7fd75e89931', 12), ('c846c2a697d52433208e3aab667f66f2', 18), ('82bf86d6803620758ae36277355d65c6', 18), ('da40d73d095ac29959f4f4e1ce78a98c', 8), ('17477d0ba44e8e4f575a52a64c536b3b', 6), ('24902be80e22259bfddec35bd1ee2c1a', 21), ('ac756914a07fc8def9ac8b382a7b53e0', 6), ('a678a582f10d679a2e4ee12a4b99a378', 8), ('cf89b24f46dbf13b46ee07d3640979e6', 27), ('c5102c3d54c25eca0923d5ace9fae54c', 12), ('390c72243b1de67a11ced56b913bcfe8', 6), ('dfc99f18472339fc6ca17cbd7636ca2e', 6)]\n"
     ]
    }
   ],
   "source": [
    "k_value = 20\n",
    "\n",
    "sampling_occurrence = SamplingOccurrence()\n",
    "sampled_data = sampling_occurrence.split_and_sample(sample_list, k=k_value)\n",
    "\n",
    "# sample = split_and_sample(sample_list, k_value)\n",
    "print(\"Final selected sample list:\", sampled_data)"
   ],
   "metadata": {
    "collapsed": false,
    "ExecuteTime": {
     "end_time": "2024-01-13T21:55:18.214625Z",
     "start_time": "2024-01-13T21:55:18.187294Z"
    }
   },
   "id": "8406dbdf9af2840d",
   "execution_count": 107
  },
  {
   "cell_type": "code",
   "outputs": [
    {
     "data": {
      "text/plain": "       doc_occur_count\ncount       100.000000\nmean          5.270000\nstd           6.584118\nmin           1.000000\n25%           1.000000\n50%           3.000000\n75%           6.250000\nmax          40.000000",
      "text/html": "<div>\n<style scoped>\n    .dataframe tbody tr th:only-of-type {\n        vertical-align: middle;\n    }\n\n    .dataframe tbody tr th {\n        vertical-align: top;\n    }\n\n    .dataframe thead th {\n        text-align: right;\n    }\n</style>\n<table border=\"1\" class=\"dataframe\">\n  <thead>\n    <tr style=\"text-align: right;\">\n      <th></th>\n      <th>doc_occur_count</th>\n    </tr>\n  </thead>\n  <tbody>\n    <tr>\n      <th>count</th>\n      <td>100.000000</td>\n    </tr>\n    <tr>\n      <th>mean</th>\n      <td>5.270000</td>\n    </tr>\n    <tr>\n      <th>std</th>\n      <td>6.584118</td>\n    </tr>\n    <tr>\n      <th>min</th>\n      <td>1.000000</td>\n    </tr>\n    <tr>\n      <th>25%</th>\n      <td>1.000000</td>\n    </tr>\n    <tr>\n      <th>50%</th>\n      <td>3.000000</td>\n    </tr>\n    <tr>\n      <th>75%</th>\n      <td>6.250000</td>\n    </tr>\n    <tr>\n      <th>max</th>\n      <td>40.000000</td>\n    </tr>\n  </tbody>\n</table>\n</div>"
     },
     "execution_count": 86,
     "metadata": {},
     "output_type": "execute_result"
    }
   ],
   "source": [
    "df.describe()"
   ],
   "metadata": {
    "collapsed": false,
    "ExecuteTime": {
     "end_time": "2024-01-13T21:31:17.815397Z",
     "start_time": "2024-01-13T21:31:17.776288Z"
    }
   },
   "id": "af13b3bc77e5c6b0",
   "execution_count": 86
  },
  {
   "cell_type": "code",
   "outputs": [
    {
     "data": {
      "text/plain": "                         desc_md5_cs  doc_occur_count\n1   dac826cb225e7b24fb7baf1c56e0f02e                2\n2   7da5fd42e13c18b74f1b5d4f4e894cc0                4\n7   b61c5f9b6cdd97d8a68e62d0e7e05652                3\n8   d18349304346479aeed8f7dc73857249                3\n9   da15cf8dbb32f8a1f8972580eca0c48a                4\n11  e6dca5b300af7b08c5b0be4140e1757d                4\n12  4a4d20ca6aa10b955b8f74b6e1108de1                2\n13  3c4543b5ba3bd204ba2e358e46f247e8                4\n14  5130177e8483780f1e82d9ad80a55bb6                3\n18  f88f9b5c39e1978976da2679586cc6dd                2\n22  003b893452490545a699987777cf9ed0                3\n25  0479c1e03475c185224b45f30d3c0256                2\n26  5b9e26ac75709f669e7e4ca754882c17                2\n29  accf020aed67eb40ecfe61fb2c8d703f                2\n30  02231ecf757e1d35f08fa7f198f87df9                4\n31  7e7b5591c7924d758489fd23d492b033                4\n32  b3e8919dbd17804368bff26aeb5b22bd                3\n42  e34996f4cae204cc1166380db9735622                2\n46  7d79a4d9a52d7676ef64026e80373161                4\n54  6a5665c13af1566c87687525af6ae02b                2\n58  56feb56109ca7ba1c7d26f156e0a1167                2\n61  a30f736c50123c94f1efc6f090fb8075                2\n63  b8e8fb292ec44b740a121ae8c1365324                3\n65  2cedc2a11edfc1f5728f1bf553652b72                5\n66  176b0d90a4406211e78e9c6e5ed8fc32                3\n67  6d4df03ed301f52ef2ecde0a79a3d614                5\n68  70965622493da943b08081d07dd82d1f                4\n69  b56984c9de6bd0fbc54c0f315a22235b                2\n70  45823f76d86f4c7650a32cee7c90aeca                2\n71  e238df7677a8ae2c400328ffdd04e142                4\n73  cabb3a5529146aedf97c706ec76247ed                3\n74  4970805e81104b3a2ae01ebb35dc122b                3\n77  2566db7d0594860032c24570d91cbf66                2\n78  7b05bc39254bcd113e8f26c61a8803f2                3\n81  fb8ce9054fe0ec8ea4a6b944e529f0d1                2\n83  844ee26c2b55398011727b29a6b9f330                2\n86  d04bab0388aa99d44182ceeb8a5a6c44                2\n87  39ebc83d598a5471be9f77b9607d1f21                4\n93  494cd781fe14aa53d29eeb4b25d91879                2\n95  1c8832c0a5a27e5cff6c281a3bff528d                5",
      "text/html": "<div>\n<style scoped>\n    .dataframe tbody tr th:only-of-type {\n        vertical-align: middle;\n    }\n\n    .dataframe tbody tr th {\n        vertical-align: top;\n    }\n\n    .dataframe thead th {\n        text-align: right;\n    }\n</style>\n<table border=\"1\" class=\"dataframe\">\n  <thead>\n    <tr style=\"text-align: right;\">\n      <th></th>\n      <th>desc_md5_cs</th>\n      <th>doc_occur_count</th>\n    </tr>\n  </thead>\n  <tbody>\n    <tr>\n      <th>1</th>\n      <td>dac826cb225e7b24fb7baf1c56e0f02e</td>\n      <td>2</td>\n    </tr>\n    <tr>\n      <th>2</th>\n      <td>7da5fd42e13c18b74f1b5d4f4e894cc0</td>\n      <td>4</td>\n    </tr>\n    <tr>\n      <th>7</th>\n      <td>b61c5f9b6cdd97d8a68e62d0e7e05652</td>\n      <td>3</td>\n    </tr>\n    <tr>\n      <th>8</th>\n      <td>d18349304346479aeed8f7dc73857249</td>\n      <td>3</td>\n    </tr>\n    <tr>\n      <th>9</th>\n      <td>da15cf8dbb32f8a1f8972580eca0c48a</td>\n      <td>4</td>\n    </tr>\n    <tr>\n      <th>11</th>\n      <td>e6dca5b300af7b08c5b0be4140e1757d</td>\n      <td>4</td>\n    </tr>\n    <tr>\n      <th>12</th>\n      <td>4a4d20ca6aa10b955b8f74b6e1108de1</td>\n      <td>2</td>\n    </tr>\n    <tr>\n      <th>13</th>\n      <td>3c4543b5ba3bd204ba2e358e46f247e8</td>\n      <td>4</td>\n    </tr>\n    <tr>\n      <th>14</th>\n      <td>5130177e8483780f1e82d9ad80a55bb6</td>\n      <td>3</td>\n    </tr>\n    <tr>\n      <th>18</th>\n      <td>f88f9b5c39e1978976da2679586cc6dd</td>\n      <td>2</td>\n    </tr>\n    <tr>\n      <th>22</th>\n      <td>003b893452490545a699987777cf9ed0</td>\n      <td>3</td>\n    </tr>\n    <tr>\n      <th>25</th>\n      <td>0479c1e03475c185224b45f30d3c0256</td>\n      <td>2</td>\n    </tr>\n    <tr>\n      <th>26</th>\n      <td>5b9e26ac75709f669e7e4ca754882c17</td>\n      <td>2</td>\n    </tr>\n    <tr>\n      <th>29</th>\n      <td>accf020aed67eb40ecfe61fb2c8d703f</td>\n      <td>2</td>\n    </tr>\n    <tr>\n      <th>30</th>\n      <td>02231ecf757e1d35f08fa7f198f87df9</td>\n      <td>4</td>\n    </tr>\n    <tr>\n      <th>31</th>\n      <td>7e7b5591c7924d758489fd23d492b033</td>\n      <td>4</td>\n    </tr>\n    <tr>\n      <th>32</th>\n      <td>b3e8919dbd17804368bff26aeb5b22bd</td>\n      <td>3</td>\n    </tr>\n    <tr>\n      <th>42</th>\n      <td>e34996f4cae204cc1166380db9735622</td>\n      <td>2</td>\n    </tr>\n    <tr>\n      <th>46</th>\n      <td>7d79a4d9a52d7676ef64026e80373161</td>\n      <td>4</td>\n    </tr>\n    <tr>\n      <th>54</th>\n      <td>6a5665c13af1566c87687525af6ae02b</td>\n      <td>2</td>\n    </tr>\n    <tr>\n      <th>58</th>\n      <td>56feb56109ca7ba1c7d26f156e0a1167</td>\n      <td>2</td>\n    </tr>\n    <tr>\n      <th>61</th>\n      <td>a30f736c50123c94f1efc6f090fb8075</td>\n      <td>2</td>\n    </tr>\n    <tr>\n      <th>63</th>\n      <td>b8e8fb292ec44b740a121ae8c1365324</td>\n      <td>3</td>\n    </tr>\n    <tr>\n      <th>65</th>\n      <td>2cedc2a11edfc1f5728f1bf553652b72</td>\n      <td>5</td>\n    </tr>\n    <tr>\n      <th>66</th>\n      <td>176b0d90a4406211e78e9c6e5ed8fc32</td>\n      <td>3</td>\n    </tr>\n    <tr>\n      <th>67</th>\n      <td>6d4df03ed301f52ef2ecde0a79a3d614</td>\n      <td>5</td>\n    </tr>\n    <tr>\n      <th>68</th>\n      <td>70965622493da943b08081d07dd82d1f</td>\n      <td>4</td>\n    </tr>\n    <tr>\n      <th>69</th>\n      <td>b56984c9de6bd0fbc54c0f315a22235b</td>\n      <td>2</td>\n    </tr>\n    <tr>\n      <th>70</th>\n      <td>45823f76d86f4c7650a32cee7c90aeca</td>\n      <td>2</td>\n    </tr>\n    <tr>\n      <th>71</th>\n      <td>e238df7677a8ae2c400328ffdd04e142</td>\n      <td>4</td>\n    </tr>\n    <tr>\n      <th>73</th>\n      <td>cabb3a5529146aedf97c706ec76247ed</td>\n      <td>3</td>\n    </tr>\n    <tr>\n      <th>74</th>\n      <td>4970805e81104b3a2ae01ebb35dc122b</td>\n      <td>3</td>\n    </tr>\n    <tr>\n      <th>77</th>\n      <td>2566db7d0594860032c24570d91cbf66</td>\n      <td>2</td>\n    </tr>\n    <tr>\n      <th>78</th>\n      <td>7b05bc39254bcd113e8f26c61a8803f2</td>\n      <td>3</td>\n    </tr>\n    <tr>\n      <th>81</th>\n      <td>fb8ce9054fe0ec8ea4a6b944e529f0d1</td>\n      <td>2</td>\n    </tr>\n    <tr>\n      <th>83</th>\n      <td>844ee26c2b55398011727b29a6b9f330</td>\n      <td>2</td>\n    </tr>\n    <tr>\n      <th>86</th>\n      <td>d04bab0388aa99d44182ceeb8a5a6c44</td>\n      <td>2</td>\n    </tr>\n    <tr>\n      <th>87</th>\n      <td>39ebc83d598a5471be9f77b9607d1f21</td>\n      <td>4</td>\n    </tr>\n    <tr>\n      <th>93</th>\n      <td>494cd781fe14aa53d29eeb4b25d91879</td>\n      <td>2</td>\n    </tr>\n    <tr>\n      <th>95</th>\n      <td>1c8832c0a5a27e5cff6c281a3bff528d</td>\n      <td>5</td>\n    </tr>\n  </tbody>\n</table>\n</div>"
     },
     "execution_count": 94,
     "metadata": {},
     "output_type": "execute_result"
    }
   ],
   "source": [
    "df[df['doc_occur_count'].between(2,5)]"
   ],
   "metadata": {
    "collapsed": false,
    "ExecuteTime": {
     "end_time": "2024-01-13T21:34:18.590508Z",
     "start_time": "2024-01-13T21:34:18.565870Z"
    }
   },
   "id": "5c8ad7fa0967d182",
   "execution_count": 94
  },
  {
   "cell_type": "code",
   "outputs": [
    {
     "data": {
      "text/plain": "2.0"
     },
     "execution_count": 91,
     "metadata": {},
     "output_type": "execute_result"
    }
   ],
   "source": [
    "stats.median_abs_deviation(df['doc_occur_count'])"
   ],
   "metadata": {
    "collapsed": false,
    "ExecuteTime": {
     "end_time": "2024-01-13T21:32:55.748355Z",
     "start_time": "2024-01-13T21:32:55.726677Z"
    }
   },
   "id": "a6caf3a3eba9626c",
   "execution_count": 91
  },
  {
   "cell_type": "code",
   "outputs": [
    {
     "name": "stdout",
     "output_type": "stream",
     "text": [
      " value of k1 : 14 \n",
      " value of k2 : 6\n",
      "\n",
      " value of k_in_range : 6 \n",
      " value of k_out_range : 14\n",
      "\n",
      "[('1735530eb501a1e3acc3a06371edef7a', 1), ('dac826cb225e7b24fb7baf1c56e0f02e', 2), ('4ece7e3dc26049f61f2bf76ddbe7c02c', 1), ('59d447e616d08bc50df2b0fc83e8ec03', 1), ('b8e8fb292ec44b740a121ae8c1365324', 3), ('7992bb78399476c015ec365b421ce230', 1), ('27e42fdcb6ec8710cb0a6f9c1082629d', 8), ('660d2a4168c4ee2596339165cb5b4e87', 8), ('e813a019c13a1e3c0874ca6558cc160e', 8), ('7b5b9ecad352f613c94473758a3e71ff', 24), ('a678a582f10d679a2e4ee12a4b99a378', 8), ('59a3f3ff480fef5ca070629316b7ff8a', 7), ('0e583437801fe6c70d7cff3b52781728', 8), ('99c6e75da6b4cbb64d1178352069141e', 6), ('ac756914a07fc8def9ac8b382a7b53e0', 6), ('514a0ed09c10a3575364573b75d94c7e', 26), ('ecdb1afc9093011c754ff7fd75e89931', 12), ('c5102c3d54c25eca0923d5ace9fae54c', 12), ('390c72243b1de67a11ced56b913bcfe8', 6), ('4f563abf01f5a21bddd409fe4a59789e', 8)]\n"
     ]
    }
   ],
   "source": [
    "import random\n",
    "import statistics\n",
    "class StatsSampling:\n",
    "    def __init__(self, data_stream, k):\n",
    "        # initializing variables\n",
    "        self.data_stream = data_stream\n",
    "        self.k = k\n",
    "    def get_median_mad(self, freq_list):\n",
    "        median = statistics.median(freq_list)\n",
    "        mad = statistics.median([abs(x - median) for x in freq_list])\n",
    "        return median, mad\n",
    "    def run_sampler(self):\n",
    "        # Step 1: Calculate the median and MAD\n",
    "        freq_list = [freq for _, freq in self.data_stream]\n",
    "        median, mad = self.get_median_mad(freq_list)\n",
    "        within_range = []\n",
    "        outside_range = []\n",
    "        # Step 2: Classify items based on (median-MAD) and (median+MAD)\n",
    "        for item, freq in self.data_stream:\n",
    "            if median - mad <= freq <= median + mad:\n",
    "                within_range.append((item, freq))\n",
    "            else:\n",
    "                outside_range.append((item, freq))\n",
    "        # Calculate K1 and K2\n",
    "        total_items = len(self.data_stream)\n",
    "        k1 = round(len(within_range) / total_items * self.k)\n",
    "        k2 = self.k - k1\n",
    "        # Step 3: Apply reservoir sampling for both groups\n",
    "        if k1+k2 > self.k:\n",
    "            if k1>k2:\n",
    "                k1 = k1 - ((k1+k2)-self.k)\n",
    "            else:\n",
    "                k2 = k2 - ((k1+k2)-self.k)\n",
    "        if k1 +k2 < k:\n",
    "            \n",
    "            if k1<k2:\n",
    "                k1 = k1 + (self.k-(k1+k2))\n",
    "            else:\n",
    "                k2 = k2 + (self.k-(k1+k2))\n",
    "            \n",
    "        print(f' value of k1 : {k1} \\n value of k2 : {k2}\\n')\n",
    "        # Perform reservoir sampling for in-range and out-range item frequencies\n",
    "        if len(within_range) >= len(outside_range):\n",
    "            k_in_range = min(k1,k2)\n",
    "            k_out_range = max(k1,k2)\n",
    "        else:\n",
    "            k_in_range = max(k1,k2)\n",
    "            k_out_range = min(k1,k2)\n",
    "        print(f' value of k_in_range : {k_in_range} \\n value of k_out_range : {k_out_range}\\n')\n",
    "        l1 = self.reservoir_sampling(within_range, k_in_range)\n",
    "        l2 = self.reservoir_sampling(outside_range, k_out_range)\n",
    "        # Step 4: Merge selected samples\n",
    "        final_sample = l1 + l2\n",
    "        return final_sample\n",
    "    \n",
    "    def reservoir_sampling(self, data, k):\n",
    "        if len(data) <= k:\n",
    "            return [(item,_) for item, _ in data]\n",
    "        reservoir = [(item,_ )for item, _ in data[:k]]\n",
    "        # Start from the (k+1)th element\n",
    "        for i, (item, _) in enumerate(data[k:], start=k):\n",
    "            j = random.randrange(0, i + 1)\n",
    "            if j < k:\n",
    "                reservoir[j] = (item,_)\n",
    "        return reservoir\n",
    "# Example usage:\n",
    "data_stream = [\n",
    "    ('item1', 10), \n",
    "    ('item2', 20), \n",
    "    ('item3', 10), \n",
    "    ('item4', 30), \n",
    "    ('item5', 40),\n",
    "]\n",
    "k_value = 20\n",
    "reservoir_sampler = StatsSampling(sample_list, k=k_value)\n",
    "final_sample = reservoir_sampler.run_sampler()\n",
    "print(final_sample)"
   ],
   "metadata": {
    "collapsed": false,
    "ExecuteTime": {
     "end_time": "2024-01-13T23:39:02.503114Z",
     "start_time": "2024-01-13T23:39:02.491928Z"
    }
   },
   "id": "921d59ac8561b7b7",
   "execution_count": 134
  },
  {
   "cell_type": "code",
   "outputs": [
    {
     "data": {
      "text/plain": "(3.0, 2.0)"
     },
     "execution_count": 132,
     "metadata": {},
     "output_type": "execute_result"
    }
   ],
   "source": [
    "reservoir_sampler.get_median_mad(df['doc_occur_count'])"
   ],
   "metadata": {
    "collapsed": false,
    "ExecuteTime": {
     "end_time": "2024-01-13T23:36:42.286375Z",
     "start_time": "2024-01-13T23:36:42.194546Z"
    }
   },
   "id": "6df7740eba28d4bf",
   "execution_count": 132
  },
  {
   "cell_type": "code",
   "outputs": [],
   "source": [
    "import math"
   ],
   "metadata": {
    "collapsed": false,
    "ExecuteTime": {
     "end_time": "2024-01-14T01:01:16.800426Z",
     "start_time": "2024-01-14T01:01:16.792177Z"
    }
   },
   "id": "58d80e2056e9fef0",
   "execution_count": 1
  },
  {
   "cell_type": "code",
   "outputs": [
    {
     "data": {
      "text/plain": "3.3662361237182927"
     },
     "execution_count": 4,
     "metadata": {},
     "output_type": "execute_result"
    }
   ],
   "source": [
    "math.log(2324,10)"
   ],
   "metadata": {
    "collapsed": false,
    "ExecuteTime": {
     "end_time": "2024-01-14T01:01:45.230711Z",
     "start_time": "2024-01-14T01:01:45.208442Z"
    }
   },
   "id": "c76f9f66db570b8",
   "execution_count": 4
  },
  {
   "cell_type": "code",
   "outputs": [],
   "source": [],
   "metadata": {
    "collapsed": false
   },
   "id": "e862edf6ec7ae309"
  }
 ],
 "metadata": {
  "kernelspec": {
   "display_name": "Python 3",
   "language": "python",
   "name": "python3"
  },
  "language_info": {
   "codemirror_mode": {
    "name": "ipython",
    "version": 2
   },
   "file_extension": ".py",
   "mimetype": "text/x-python",
   "name": "python",
   "nbconvert_exporter": "python",
   "pygments_lexer": "ipython2",
   "version": "2.7.6"
  }
 },
 "nbformat": 4,
 "nbformat_minor": 5
}
